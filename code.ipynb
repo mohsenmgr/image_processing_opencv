import cv2
import numpy as np
from matplotlib import pyplot as plt
import math
import random



im = cv2.imread('../images/NO/190828_132418_0000547436_CAM2_NG_NO.bmp', cv2.IMREAD_GRAYSCALE)
im_orig = cv2.imread('../images/NO/190828_132418_0000547436_CAM2_NG_NO.bmp')

#im = np.array(Image.open('../images/NO/190825_143755_0001379937_CAM1_NG_NO.bmp',1))
print(im.dtype)

print(im.ndim)

print(im.shape)

#only 0 channel, others set to 0
im_R = im.copy()
#im_R[0:740, :] = 124


print(im[340,5])
print(im[740,5])
print(im[940,5])

x_locations = []
for i in range(im_R.shape[1]):
    #number = random.randint(0,im_R.shape[1]) 
    #if number not in x_locations :
    x_locations.append(i)
    

points = []

#def extractWire(img):
    
for i in x_locations:
    for j in range(im_R.shape[0]):
        if im_R[j,i] > 170:
            obj = []
            obj.append([j,i])
            points.append(obj)
            break;
    
    #return img[i:k,:] 
print("hello")


pixel_values = []

for i in range(len(points)):
    item = points[i]
    point_Y = item[0][0]
    point_X = item[0][1]
    value = im_R[point_Y,point_X]
    pixel_values.append([point_Y,point_X,value])
    

print("====================================================================")
print("len pixel_values:"+str(len(pixel_values)))

theSum = 0
for i in range(len(pixel_values)):
    theSum = theSum + pixel_values[i][2]
    

average = theSum / len(pixel_values)
ceil = math.ceil(average)
floor = math.floor(average)
print("Average: "+str(average))
print("Ceil: "+str(ceil))
print("Floor: "+str(floor))

f_result = []

for i in range(len(pixel_values)):
    if  floor <= pixel_values[i][2] <= ceil:
        point_Y = pixel_values[i][0]
        #we dont need x
        #point_X = pixel_values[i][1]
        f_result.append(point_Y)
print("****************************************************************")        
print("len f_result:"+str(len(f_result)))

print(f_result)




def most_frequent(List): 
    counter = 0
    num = List[0] 
      
    for i in List: 
        curr_frequency = List.count(i) 
        if(curr_frequency> counter): 
            counter = curr_frequency 
            num = i 
  
    return num 
  
print("most frequent")
print(most_frequent(f_result)) 

found_y_position = most_frequent(f_result)


lineThickness = 4
#cv2.line(im_orig, (0, 800), (1599, 800), (0,0,255), lineThickness)
cv2.line(im_orig, (0, found_y_position), (1599, found_y_position), (0,0,255), lineThickness)
plt.imshow(im_orig,cmap = 'gray')



#im_R[tuple(m2)]
#im_R[tuple(m3)]



#pil_img = Image.fromarray(im_R)

#plt.imshow(pil_img,cmap = 'gray')
#plt.title('Edge Image'), plt.xticks([]), plt.yticks([])

#plt.show()


#img = plt.imread('../images/NO/190825_143755_0001379937_CAM1_NG_NO.bmp')
#edges = cv2.Canny(img,100,200)

#plt.subplot(121),plt.imshow(img,cmap = 'gray')
#plt.title('Original Image'), plt.xticks([]), plt.yticks([])
#plt.subplot(122),plt.imshow(edges,cmap = 'gray')
#plt.title('Edge Image'), plt.xticks([]), plt.yticks([])

#plt.show()


#print(img[:,:].max())

#img[:,:290] = 1





